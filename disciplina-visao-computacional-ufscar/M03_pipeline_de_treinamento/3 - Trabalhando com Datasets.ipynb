{
 "cells": [
  {
   "cell_type": "markdown",
   "metadata": {},
   "source": [
    "# Trabalhando com dataset\n",
    "\n",
    "Estudaremos práticas comuns ao trabalhar com datasets"
   ]
  },
  {
   "cell_type": "markdown",
   "metadata": {},
   "source": [
    "### Carregando os dados"
   ]
  },
  {
   "cell_type": "code",
   "execution_count": 9,
   "metadata": {},
   "outputs": [
    {
     "name": "stdout",
     "output_type": "stream",
     "text": [
      "<class 'PIL.Image.Image'>\n",
      "5\n"
     ]
    },
    {
     "data": {
      "image/png": "[encoded data removed]",
      "text/plain": [
       "<PIL.Image.Image image mode=L size=28x28>"
      ]
     },
     "execution_count": 9,
     "metadata": {},
     "output_type": "execute_result"
    }
   ],
   "source": [
    "import random\n",
    "import numpy as np\n",
    "import matplotlib.pyplot as plt\n",
    "import torch\n",
    "from torch.utils.data import Dataset, DataLoader # Responsável por lidar com os dados\n",
    "from torchvision import datasets\n",
    "\n",
    "# Diretório no qual as imagens serão armazenadas\n",
    "root = '../data'\n",
    "ds_or = datasets.MNIST(root, train=True, download=True)\n",
    "\n",
    "img, target = ds_or[0]\n",
    "print(type(img))\n",
    "print(target)\n",
    "img"
   ]
  },
  {
   "cell_type": "code",
   "execution_count": 14,
   "metadata": {},
   "outputs": [
    {
     "data": {
      "image/png": "[encoded data removed]",
      "text/plain": [
       "<Figure size 864x288 with 10 Axes>"
      ]
     },
     "metadata": {
      "needs_background": "light"
     },
     "output_type": "display_data"
    }
   ],
   "source": [
    "# Plota um digito de cada classe\n",
    "fig, axs = plt.subplots(2, 5, figsize=(12, 4))  \n",
    "class_plotted = set()\n",
    "\n",
    "idx = 0\n",
    "while len(class_plotted) < 10:  \n",
    "    img, target = ds_or[idx]\n",
    "    if target not in class_plotted:  \n",
    "        ax = axs[target // 5, target % 5]  \n",
    "        ax.imshow(img, 'gray')\n",
    "        ax.set_title(f'Classe: {target}')\n",
    "        ax.axis('off')  \n",
    "        class_plotted.add(target)  \n",
    "    idx += 1 \n",
    "\n",
    "plt.tight_layout()\n",
    "plt.show()"
   ]
  },
  {
   "cell_type": "markdown",
   "metadata": {},
   "source": [
    "### Extração de um subconjunto para agilizar os testes\n",
    "\n",
    "Iremos extrair um subconjunto do MNIST. Para isso, criaremos uma Dataset do Pytorch contendo um subconjunto das imagens"
   ]
  },
  {
   "cell_type": "code",
   "execution_count": 3,
   "metadata": {},
   "outputs": [
    {
     "data": {
      "text/plain": [
       "1000"
      ]
     },
     "execution_count": 3,
     "metadata": {},
     "output_type": "execute_result"
    }
   ],
   "source": [
    "class Subset(Dataset):\n",
    "\n",
    "    def __init__(self, ds, indices):\n",
    "        self.ds = ds # Dataset original\n",
    "        self.indices = indices # Indices do subset que será usado de fato\n",
    "\n",
    "    def __getitem__(self, idx):\n",
    "        return self.ds[self.indices[idx]]\n",
    "\n",
    "    def __len__(self):\n",
    "        return len(self.indices)\n",
    "    \n",
    "# Semente do gerador de números aleatórios\n",
    "random.seed(42)\n",
    "# Dataset com 1000 imagens\n",
    "indices = random.sample(range(len(ds_or)), k=1000)\n",
    "ds = Subset(ds_or, indices)\n",
    "len(ds)"
   ]
  },
  {
   "cell_type": "markdown",
   "metadata": {},
   "source": [
    "### Normalização dos dados\n",
    "\n",
    "A normalização dos dados é uma técnica crucial no pré-processamento de dados para aprendizado de máquina, especialmente em redes neurais. Essa prática envolve ajustar os dados de entrada para que tenham uma `média zero e desvio padrão de um`. Este procedimento ajuda a melhorar a convergência durante o treinamento, reduzir a dependência de características em escalas particulares e aumentar a eficiência geral do algoritmo de aprendizado.\n",
    "\n",
    "#### Importância da Normalização\n",
    "\n",
    "- **Melhoria da Convergência do Treinamento:** Dados normalizados ajudam a otimizar o processo de aprendizado, pois garantem que todas as características contribuam igualmente para o cálculo do erro e a atualização dos pesos. Isso `evita problemas relacionados com a escala dos dados`, onde variáveis de maior magnitude dominam o processo de treinamento, potencialmente levando a um treinamento mais lento ou até mesmo a falhas na convergência.\n",
    "\n",
    "- **Prevenção de Viés nos Pesos:** Sem normalização, as características com maior variação inicial podem influenciar desproporcionalmente os pesos da rede, tornando o modelo enviesado para essas características. A normalização neutraliza esse efeito, permitindo que o modelo aprenda de forma mais equilibrada.\n",
    "\n",
    "#### Como Normalizar os Dados\n",
    "\n",
    "1. **Cálculo da Média e Desvio Padrão:**\n",
    "   Para normalizar os dados, primeiramente calculamos a média ($(\\mu)$) e o desvio padrão ($(\\sigma)$) de cada característica no conjunto de dados:\n",
    "   $$\n",
    "   \\mu = \\frac{1}{N} \\sum_{i=1}^{N} x_i, \\quad \\sigma = \\sqrt{\\frac{1}{N} \\sum_{i=1}^{N} (x_i - \\mu)^2}\n",
    "   $$\n",
    "   onde $(x_i)$ são os valores de uma característica específica, e $(N)$ é o número total de amostras.\n",
    "\n",
    "2. **Aplicação da Normalização:**\n",
    "   Em seguida, cada característica é normalizada subtraindo a média e dividindo pelo desvio padrão:\n",
    "   $$\n",
    "   x_{\\text{norm}} = \\frac{x - \\mu}{\\sigma}\n",
    "   $$\n",
    "   Isso resulta em características com uma média aproximadamente zero e um desvio padrão de um."
   ]
  },
  {
   "cell_type": "code",
   "execution_count": 4,
   "metadata": {},
   "outputs": [
    {
     "name": "stdout",
     "output_type": "stream",
     "text": [
      "(32.96950255102037, 76.55556595768888)\n"
     ]
    }
   ],
   "source": [
    "def get_statistics(ds):\n",
    "\n",
    "    n = len(ds)\n",
    "    mean = 0.\n",
    "    std = 0.\n",
    "    for img, target in ds:\n",
    "        mean += np.mean(np.array(img))\n",
    "        std += np.std(np.array(img))\n",
    "    mean /= n\n",
    "    std /= n\n",
    "\n",
    "    return mean, std\n",
    "\n",
    "print(get_statistics(ds))"
   ]
  },
  {
   "cell_type": "code",
   "execution_count": 5,
   "metadata": {},
   "outputs": [],
   "source": [
    "def transform(img, mean=33., std=76.5):\n",
    "    \"\"\"Transformação do dataset MNIST. PIL->numpy->z-score->tensor.\"\"\"\n",
    "    \n",
    "    # Conversão PIL->numpy\n",
    "    img = np.array(img, dtype=np.float32)\n",
    "    # Conversão numpy->pytorch\n",
    "    img = torch.from_numpy(img)\n",
    "    # Normalização\n",
    "    img = (img-mean)/std\n",
    "    # Adição de um canal\n",
    "    img = img.reshape(1, img.shape[0], img.shape[1])\n",
    "\n",
    "    return img"
   ]
  },
  {
   "cell_type": "markdown",
   "metadata": {},
   "source": [
    "### Classe final"
   ]
  },
  {
   "cell_type": "code",
   "execution_count": 17,
   "metadata": {},
   "outputs": [],
   "source": [
    "class Subset(Dataset):\n",
    "\n",
    "    def __init__(self, ds, indices, transform=None):\n",
    "        self.ds = ds\n",
    "        self.indices = indices\n",
    "        self.transform = transform\n",
    "\n",
    "    def __getitem__(self, idx):\n",
    "        \"\"\"Retorna um item, opcionalmente aplicando uma transformação.\"\"\"\n",
    "\n",
    "        img, target = self.ds[self.indices[idx]]\n",
    "        if self.transform is not None:\n",
    "            img = self.transform(img)\n",
    "\n",
    "        return img, target\n",
    "\n",
    "    def __len__(self):\n",
    "        return len(self.indices)\n",
    "    \n",
    "# Podemos criar subsets de treinamento e validação\n",
    "random.seed(42)\n",
    "indices = random.sample(range(len(ds_or)), k=2000)\n",
    "mean, std = get_statistics(ds)\n",
    "ds_train = Subset(ds_or, indices[:1000], transform=transform)\n",
    "ds_valid = Subset(ds_or, indices[1000:], transform=transform)"
   ]
  },
  {
   "cell_type": "markdown",
   "metadata": {},
   "source": [
    "### DataLoader do PyTorch\n",
    "\n",
    "O `DataLoader` é uma classe essencial no PyTorch que facilita o carregamento de dados, tornando-o mais acessível e gerenciável durante o treinamento de modelos de aprendizado de máquina. Ele é usado para encapsular um conjunto de dados e oferecer várias funcionalidades de iteração sobre os dados de forma eficiente e fácil.\n",
    "\n",
    "#### Principais Funcionalidades\n",
    "\n",
    "- **Batch Loading**: O `DataLoader` permite o carregamento de dados em lotes, o que é crucial para o treinamento de modelos em grandes conjuntos de dados. Isso ajuda a otimizar o uso da memória e acelerar o processo de treinamento.\n",
    "\n",
    "- **Shuffling**: A classe pode embaralhar os dados automaticamente a cada época para reduzir o risco de overfitting e melhorar a generalização do modelo.\n",
    "\n",
    "- **Parallel Processing**: Utiliza workers múltiplos para carregar os dados, permitindo que o carregamento de dados seja feito de forma assíncrona e paralela, melhorando significativamente a eficiência durante o treinamento.\n",
    "\n",
    "#### Principais Métodos e Parâmetros\n",
    "\n",
    "- **`__init__(self, dataset, batch_size=1, shuffle=False, sampler=None, batch_sampler=None, num_workers=0, collate_fn=None, pin_memory=False, drop_last=False, timeout=0, worker_init_fn=None)`**:\n",
    "  - `dataset`: O conjunto de dados a ser carregado pelo DataLoader.\n",
    "  - `batch_size`: Define o tamanho de cada lote de dados.\n",
    "  - `shuffle`: Se `True`, os dados serão embaralhados a cada iteração (ou época).\n",
    "  - `num_workers`: Número de subprocessos a serem usados para carregar os dados. Um valor maior pode acelerar o carregamento dos dados.\n",
    "  - `collate_fn`: Define como as amostras são combinadas para formar um lote. Pode ser personalizado para maneiras específicas de combinação de dados.\n",
    "  - `pin_memory`: Se `True`, o DataLoader colocará os tensores em uma área da memória que é mais rápida para transferência para a GPU.\n",
    "  - `drop_last`: Se `True`, o último lote será descartado caso seu tamanho seja menor que o tamanho definido em `batch_size`."
   ]
  },
  {
   "cell_type": "code",
   "execution_count": 7,
   "metadata": {},
   "outputs": [
    {
     "name": "stdout",
     "output_type": "stream",
     "text": [
      "torch.Size([16, 1, 28, 28]) torch.Size([16])\n"
     ]
    }
   ],
   "source": [
    "dl = DataLoader(ds_train, \n",
    "                batch_size=16,   # Número de imagens que serão incluídas em um batch\n",
    "                shuffle=True,    # Define se as imagens serão amostradas aleatoriamente\n",
    "                num_workers=0,   # Número de threads que serão usadas para carregar os dados\n",
    "                drop_last=False) # Indica se o último batch será desconsiderado\n",
    "\n",
    "imgs, targets = next(iter(dl))\n",
    "print(imgs.shape, targets.shape)"
   ]
  },
  {
   "cell_type": "markdown",
   "metadata": {},
   "source": [
    "- **Métodos de Iteração**: O DataLoader pode ser usado diretamente em loops, fornecendo uma maneira conveniente de iterar sobre os dados em lotes."
   ]
  },
  {
   "cell_type": "code",
   "execution_count": 8,
   "metadata": {},
   "outputs": [
    {
     "name": "stdout",
     "output_type": "stream",
     "text": [
      "torch.Size([16, 1, 28, 28])\n",
      "torch.Size([16, 1, 28, 28])\n",
      "torch.Size([16, 1, 28, 28])\n",
      "torch.Size([16, 1, 28, 28])\n",
      "torch.Size([16, 1, 28, 28])\n",
      "torch.Size([16, 1, 28, 28])\n",
      "torch.Size([16, 1, 28, 28])\n",
      "torch.Size([16, 1, 28, 28])\n",
      "torch.Size([16, 1, 28, 28])\n",
      "torch.Size([16, 1, 28, 28])\n",
      "torch.Size([16, 1, 28, 28])\n",
      "torch.Size([16, 1, 28, 28])\n",
      "torch.Size([16, 1, 28, 28])\n",
      "torch.Size([16, 1, 28, 28])\n",
      "torch.Size([16, 1, 28, 28])\n",
      "torch.Size([16, 1, 28, 28])\n",
      "torch.Size([16, 1, 28, 28])\n",
      "torch.Size([16, 1, 28, 28])\n",
      "torch.Size([16, 1, 28, 28])\n",
      "torch.Size([16, 1, 28, 28])\n",
      "torch.Size([16, 1, 28, 28])\n",
      "torch.Size([16, 1, 28, 28])\n",
      "torch.Size([16, 1, 28, 28])\n",
      "torch.Size([16, 1, 28, 28])\n",
      "torch.Size([16, 1, 28, 28])\n",
      "torch.Size([16, 1, 28, 28])\n",
      "torch.Size([16, 1, 28, 28])\n",
      "torch.Size([16, 1, 28, 28])\n",
      "torch.Size([16, 1, 28, 28])\n",
      "torch.Size([16, 1, 28, 28])\n",
      "torch.Size([16, 1, 28, 28])\n",
      "torch.Size([16, 1, 28, 28])\n",
      "torch.Size([16, 1, 28, 28])\n",
      "torch.Size([16, 1, 28, 28])\n",
      "torch.Size([16, 1, 28, 28])\n",
      "torch.Size([16, 1, 28, 28])\n",
      "torch.Size([16, 1, 28, 28])\n",
      "torch.Size([16, 1, 28, 28])\n",
      "torch.Size([16, 1, 28, 28])\n",
      "torch.Size([16, 1, 28, 28])\n",
      "torch.Size([16, 1, 28, 28])\n",
      "torch.Size([16, 1, 28, 28])\n",
      "torch.Size([16, 1, 28, 28])\n",
      "torch.Size([16, 1, 28, 28])\n",
      "torch.Size([16, 1, 28, 28])\n",
      "torch.Size([16, 1, 28, 28])\n",
      "torch.Size([16, 1, 28, 28])\n",
      "torch.Size([16, 1, 28, 28])\n",
      "torch.Size([16, 1, 28, 28])\n",
      "torch.Size([16, 1, 28, 28])\n",
      "torch.Size([16, 1, 28, 28])\n",
      "torch.Size([16, 1, 28, 28])\n",
      "torch.Size([16, 1, 28, 28])\n",
      "torch.Size([16, 1, 28, 28])\n",
      "torch.Size([16, 1, 28, 28])\n",
      "torch.Size([16, 1, 28, 28])\n",
      "torch.Size([16, 1, 28, 28])\n",
      "torch.Size([16, 1, 28, 28])\n",
      "torch.Size([16, 1, 28, 28])\n",
      "torch.Size([16, 1, 28, 28])\n",
      "torch.Size([16, 1, 28, 28])\n",
      "torch.Size([16, 1, 28, 28])\n",
      "torch.Size([8, 1, 28, 28])\n"
     ]
    }
   ],
   "source": [
    "for imgs, targets in dl:\n",
    "    print(imgs.shape)"
   ]
  }
 ],
 "metadata": {
  "kernelspec": {
   "display_name": "pytorch",
   "language": "python",
   "name": "python3"
  },
  "language_info": {
   "codemirror_mode": {
    "name": "ipython",
    "version": 3
   },
   "file_extension": ".py",
   "mimetype": "text/x-python",
   "name": "python",
   "nbconvert_exporter": "python",
   "pygments_lexer": "ipython3",
   "version": "3.7.12"
  }
 },
 "nbformat": 4,
 "nbformat_minor": 2
}
