{
 "cells": [
  {
   "cell_type": "markdown",
   "metadata": {},
   "source": [
    "# Treinamento usando funções Pytorch\n",
    "\n",
    "Vamos substituir algumas funções que fizemos no notebook do módulo 1 por funções do Pytorch"
   ]
  },
  {
   "cell_type": "code",
   "execution_count": 1,
   "metadata": {},
   "outputs": [],
   "source": [
    "import numpy as np\n",
    "import matplotlib.pyplot as plt\n",
    "import torch\n",
    "from torch import nn\n",
    "import torch.nn.functional as F\n",
    "\n",
    "data = torch.from_numpy(np.loadtxt('../data/age_data_3.txt')).to(torch.float32)\n",
    "inputs, targets = data.T"
   ]
  },
  {
   "cell_type": "markdown",
   "metadata": {},
   "source": [
    "### Camada Linear no PyTorch\n",
    "\n",
    "A camada linear no PyTorch, também conhecida como `torch.nn.Linear`, é uma das componentes fundamentais em redes neurais, especialmente em modelos que processam dados estruturados ou são parte de uma rede neural mais complexa. Esta camada é usada para realizar uma transformação linear nos dados de entrada, o que é uma etapa essencial em muitos tipos de aprendizado de máquina.\n",
    "\n",
    "#### Estrutura e Funcionamento\n",
    "\n",
    "A camada linear realiza a operação matemática conhecida como transformação afim, que pode ser representada pela equação:\n",
    "\n",
    "$ \\text{saida} = xA^T + b $\n",
    "\n",
    "onde:\n",
    "- $( x )$ é o tensor de entrada.\n",
    "- $( A )$ é a matriz de pesos (`weight`), correspondendo ao coeficiente $( a )$ em um modelo linear simples.\n",
    "- $( b )$ é o vetor de viés (`bias`), similar ao intercepto $( b )$ em regressões lineares.\n",
    "\n",
    "#### Atributos\n",
    "\n",
    "- **`.weight`**: Este atributo armazena os pesos da camada, que são aprendidos durante o processo de treinamento. Os pesos são inicializados aleatoriamente e ajustados através de algoritmos de otimização, como o gradiente descendente, para minimizar a função de perda do modelo.\n",
    "\n",
    "- **`.bias`**: O viés permite que o modelo ajuste a saída independentemente da entrada, oferecendo uma flexibilidade adicional ao definir a função que mapeia as entradas para as saídas. Assim como os pesos, o viés é aprendido durante o treinamento."
   ]
  },
  {
   "cell_type": "code",
   "execution_count": 2,
   "metadata": {},
   "outputs": [
    {
     "name": "stdout",
     "output_type": "stream",
     "text": [
      "Parameter containing:\n",
      "tensor([[0.1054]], requires_grad=True)\n",
      "Parameter containing:\n",
      "tensor([0.8602], requires_grad=True)\n"
     ]
    }
   ],
   "source": [
    "model = nn.Linear(in_features=1, out_features=1, bias=True)\n",
    "print(model.weight)\n",
    "print(model.bias)"
   ]
  },
  {
   "cell_type": "markdown",
   "metadata": {},
   "source": [
    "### Estruturação de Entradas no PyTorch\n",
    "\n",
    "No PyTorch, os modelos geralmente esperam que os dados de entrada sejam fornecidos em um formato tensorial específico. Este formato é essencial para garantir o correto processamento dos dados pela rede neural, especialmente quando se lida com diferentes tipos de dados, como imagens ou séries temporais.\n",
    "\n",
    "#### Formato dos Tensore de Entrada\n",
    "\n",
    "Para a maioria dos modelos em PyTorch, o tensor de entrada deve seguir a estrutura:\n",
    "\n",
    "- **NxC1xC2...**, onde:\n",
    "  - **N** representa o número de instâncias (ou exemplos) que serão processadas em um lote.\n",
    "  - **C1, C2, ...** são as dimensões dos dados.\n",
    "\n",
    "#### Exemplo Comum: Imagens\n",
    "\n",
    "- Para imagens, o formato comum é **NxHxW**:\n",
    "  - **H** é a altura da imagem (número de linhas).\n",
    "  - **W** é a largura da imagem (número de colunas)."
   ]
  },
  {
   "cell_type": "code",
   "execution_count": 3,
   "metadata": {},
   "outputs": [
    {
     "name": "stdout",
     "output_type": "stream",
     "text": [
      "tensor([[1.0056],\n",
      "        [0.9908],\n",
      "        [0.9971],\n",
      "        [1.0098],\n",
      "        [1.0066],\n",
      "        [0.9761],\n",
      "        [0.9971],\n",
      "        [0.9845],\n",
      "        [0.9856],\n",
      "        [0.9908]], grad_fn=<SliceBackward0>)\n",
      "tensor([[1.0056],\n",
      "        [0.9908],\n",
      "        [0.9971],\n",
      "        [1.0098],\n",
      "        [1.0066],\n",
      "        [0.9761],\n",
      "        [0.9971],\n",
      "        [0.9845],\n",
      "        [0.9856],\n",
      "        [0.9908]], grad_fn=<SliceBackward0>)\n"
     ]
    }
   ],
   "source": [
    "#Modelos do Pytorch sempre esperam um tensor com tamanho NxC1xC2..., onde N é o número\n",
    "#de instâncias que serão processadas e C1, C2, ... é a dimensão dos dados.\n",
    "#Para imagens, os dados terão tamanho NxHxW, onde H é o número de linhas e W o número \n",
    "#de colunas das imagens. Mas nos dados deste notebook, cada instância possui um único \n",
    "#atributo (altura):\n",
    "#                     dimensão Nx1\n",
    "inputs = inputs.reshape(len(inputs),1)\n",
    "targets = targets.reshape(len(targets),1)\n",
    "\n",
    "res = model(inputs)\n",
    "# imprime os 10 primeiros resultados\n",
    "print(res[:10])\n",
    "# O código acima faz a seguinte operação:\n",
    "res_comp = model.weight*inputs + model.bias\n",
    "print(res_comp[:10])"
   ]
  },
  {
   "cell_type": "markdown",
   "metadata": {},
   "source": [
    "### Treinamento usando funções do Pytorch\n",
    "\n",
    "O treinamento de um modelo no PyTorch envolve várias etapas fundamentais que permitem ao modelo aprender a partir dos dados fornecidos. Este processo é implementado na função train, que ajusta os parâmetros do modelo usando o `gradiente descendente estocástico (SGD)` e a função de perda de `entropia cruzada binária (BCEWithLogitsLoss)`.\n",
    "\n",
    "### Entropia Cruzada Binária com Logits\n",
    "\n",
    "A função de perda `BCEWithLogitsLoss` do PyTorch é projetada especificamente para abordar problemas de classificação binária. Esta função é uma combinação integrada de uma camada sigmoide e a computação de entropia cruzada. A vantagem de combinar esses dois componentes numa única função de perda é dupla:\n",
    "\n",
    "1. **Estabilidade Numérica:** A combinação direta dos logits (saídas do modelo antes da aplicação da função sigmoide) com a entropia cruzada melhora a estabilidade numérica do cálculo. Isso ocorre porque a função sigmoide pode levar a problemas numéricos quando seus argumentos são muito grandes ou muito pequenos, potencialmente resultando em gradientes que são muito grandes ou muito pequenos para processar de forma eficaz. A implementação de `BCEWithLogitsLoss` lida com isso internamente, evitando cálculos diretos com a função sigmoide que poderiam resultar em overflow ou underflow.\n",
    "\n",
    "2. **Eficiência de Cálculo:** Ao evitar cálculos redundantes, esta abordagem é computacionalmente mais eficiente. A função sigmoide e a entropia cruzada são combinadas de tal forma que apenas uma passagem é necessária para calcular ambas as operações, o que reduz a carga computacional.\n",
    "\n",
    "A função calcula a perda da seguinte maneira: para cada par de entrada prevista (logit) e rótulo verdadeiro, aplica a função sigmoide ao logit para obter a probabilidade prevista $( p )$, e então computa a perda de entropia cruzada entre $( p )$ e o rótulo verdadeiro $( y )$ usando a fórmula:\n",
    "\n",
    "$$ \\text{loss} = -\\left[ y \\cdot \\log(p) + (1 - y) \\cdot \\log(1 - p) \\right] $$\n",
    "\n",
    "### Otimizador SGD (Descida do Gradiente Estocástico)\n",
    "\n",
    "O Otimizador SGD (`torch.optim.SGD`) é um dos algoritmos mais comuns e fundamentais para a otimização de parâmetros em redes neurais. No contexto do PyTorch, este otimizador é implementado para atualizar os parâmetros de forma iterativa com base no gradiente da função de perda:\n",
    "\n",
    "- **Cálculo do Gradiente:** O gradiente é calculado usando a retropropagação (backpropagation). Esse gradiente representa a direção na qual a função de perda aumenta mais rapidamente. Para minimizar a perda, precisamos mover os parâmetros na direção oposta ao gradiente.\n",
    "\n",
    "- **Atualização dos Parâmetros:** A cada iteração de treinamento, o otimizador ajusta os parâmetros subtraindo um produto do gradiente e da taxa de aprendizado (α ou `lr`):\n",
    "\n",
    "  $$ \\beta_j \\leftarrow \\beta_j - \\alpha \\frac{\\partial}{\\partial \\beta_j} \\text{Loss} $$\n",
    "\n",
    "- **Taxa de Aprendizado (Learning Rate, `lr`):** Este hiperparâmetro é crucial porque define o tamanho dos passos que o modelo faz na direção oposta ao gradiente. Uma taxa de aprendizado muito alta pode fazer com que o modelo \"salte\" sobre o mínimo da função de perda, enquanto uma taxa muito baixa pode resultar em uma convergência muito lenta, consumindo recursos computacionais e tempo.\n",
    "\n",
    "A eficácia do SGD pode ser melhorada com técnicas como o momento (que suaviza a atualização dos parâmetros ao longo do tempo, adicionando uma fração do gradiente de atualização anterior à atualização atual) e a taxa de aprendizado adaptativa (que ajusta a taxa de aprendizado ao longo do tempo para cada parâmetro, acelerando o treinamento e melhorando a performance do modelo)."
   ]
  },
  {
   "cell_type": "code",
   "execution_count": 11,
   "metadata": {},
   "outputs": [
    {
     "data": {
      "image/png": "[encoded data removed]",
      "text/plain": [
       "<Figure size 1080x1080 with 1 Axes>"
      ]
     },
     "metadata": {
      "needs_background": "light"
     },
     "output_type": "display_data"
    }
   ],
   "source": [
    "def train(model, inputs, targets, num_epochs, lr):\n",
    "\n",
    "    # Entropia cruzada\n",
    "    loss_func = nn.BCEWithLogitsLoss()\n",
    "    # Otimizador. SGD significa Stochastic Gradient Descent. O construtor recebe \n",
    "    # como entrada os parâmetros do modelo e a tplta de aprendizado\n",
    "    optim = torch.optim.SGD(model.parameters(), lr=lr)\n",
    "    losses = []\n",
    "    for epoch in range(0, num_epochs):\n",
    "        # Apaga os gradientes\n",
    "        optim.zero_grad()\n",
    "        scores = model(inputs)\n",
    "        loss = loss_func(scores, targets)\n",
    "        # Calcula os gradientes\n",
    "        loss.backward()\n",
    "        # Atualiza os gradientes\n",
    "        optim.step()\n",
    "        losses.append(loss.item())\n",
    "\n",
    "    return losses\n",
    "\n",
    "with torch.no_grad():\n",
    "    # [:] indica uma modificação inplace. Equivalente a\n",
    "    # model.weight.fill_(19.)\n",
    "    model.weight[:] = 19.\n",
    "    model.bias[:] = -25.\n",
    "\n",
    "losses = train(model, inputs, targets, num_epochs=100, lr=0.5)\n",
    "\n",
    "plt.rcParams.update({'font.size': 22})  \n",
    "plt.figure(figsize=(15,15))\n",
    "plt.plot(losses, linestyle='-', color='red', alpha=0.5)  \n",
    "plt.title(f'Training Loop')\n",
    "plt.xlabel('Epoch')\n",
    "plt.ylabel('Cross Entropy Loss')\n",
    "plt.grid(True)\n",
    "\n",
    "plt.show()"
   ]
  }
 ],
 "metadata": {
  "kernelspec": {
   "display_name": "pytorch",
   "language": "python",
   "name": "python3"
  },
  "language_info": {
   "codemirror_mode": {
    "name": "ipython",
    "version": 3
   },
   "file_extension": ".py",
   "mimetype": "text/x-python",
   "name": "python",
   "nbconvert_exporter": "python",
   "pygments_lexer": "ipython3",
   "version": "3.7.12"
  }
 },
 "nbformat": 4,
 "nbformat_minor": 2
}
